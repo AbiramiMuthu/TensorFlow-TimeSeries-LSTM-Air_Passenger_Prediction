{
  "nbformat": 4,
  "nbformat_minor": 0,
  "metadata": {
    "colab": {
      "name": "TF-Time_Series-LSTM-Air_Passenger_Prediction.ipynb",
      "provenance": [],
      "collapsed_sections": [],
      "authorship_tag": "ABX9TyNOzeAynSKjuKT0OGEIT+p1",
      "include_colab_link": true
    },
    "kernelspec": {
      "name": "python3",
      "display_name": "Python 3"
    },
    "language_info": {
      "name": "python"
    }
  },
  "cells": [
    {
      "cell_type": "markdown",
      "metadata": {
        "id": "view-in-github",
        "colab_type": "text"
      },
      "source": [
        "<a href=\"https://colab.research.google.com/github/AbiramiMuthu/TensorFlow-TimeSeries-LSTM-Air_Passenger_Prediction/blob/main/TF_Time_Series_LSTM_Air_Passenger_Prediction.ipynb\" target=\"_parent\"><img src=\"https://colab.research.google.com/assets/colab-badge.svg\" alt=\"Open In Colab\"/></a>"
      ]
    },
    {
      "cell_type": "markdown",
      "metadata": {
        "id": "AEuv73iskeh1"
      },
      "source": [
        "## Load libraries"
      ]
    },
    {
      "cell_type": "code",
      "metadata": {
        "id": "0cxKaO_exyw7"
      },
      "source": [
        "import numpy as np\n",
        "import pandas as pd\n",
        "from sklearn.preprocessing import MinMaxScaler\n",
        "import matplotlib.pyplot as plt"
      ],
      "execution_count": 166,
      "outputs": []
    },
    {
      "cell_type": "code",
      "metadata": {
        "id": "mn2bd4xa1km_"
      },
      "source": [
        "from tensorflow.keras import Sequential\n",
        "from tensorflow.keras.layers import Dense,LSTM\n"
      ],
      "execution_count": 167,
      "outputs": []
    },
    {
      "cell_type": "markdown",
      "metadata": {
        "id": "gukWGYLukjtV"
      },
      "source": [
        "## Mount the Drive"
      ]
    },
    {
      "cell_type": "code",
      "metadata": {
        "id": "iIgeeJeZ2gbS",
        "colab": {
          "base_uri": "https://localhost:8080/"
        },
        "outputId": "3b26f557-4233-4547-9dfe-04fec8a8db29"
      },
      "source": [
        "from google.colab import drive\n",
        "drive.mount('/content/drive')"
      ],
      "execution_count": 168,
      "outputs": [
        {
          "output_type": "stream",
          "text": [
            "Drive already mounted at /content/drive; to attempt to forcibly remount, call drive.mount(\"/content/drive\", force_remount=True).\n"
          ],
          "name": "stdout"
        }
      ]
    },
    {
      "cell_type": "markdown",
      "metadata": {
        "id": "g5UQwjaakp0q"
      },
      "source": [
        "## Read the Dataset \n",
        "\n",
        "#### Dataset is avilable in Kaggle"
      ]
    },
    {
      "cell_type": "code",
      "metadata": {
        "id": "o1JUQlap2s7D",
        "colab": {
          "base_uri": "https://localhost:8080/",
          "height": 204
        },
        "outputId": "be704cab-f5f1-45dc-c798-75ef564e9553"
      },
      "source": [
        "df=pd.read_csv(\"/content/drive/MyDrive/Colab Notebooks/Air Passenger Prediction/AirPassengers.csv\")\n",
        "df.head(5)"
      ],
      "execution_count": 169,
      "outputs": [
        {
          "output_type": "execute_result",
          "data": {
            "text/html": [
              "<div>\n",
              "<style scoped>\n",
              "    .dataframe tbody tr th:only-of-type {\n",
              "        vertical-align: middle;\n",
              "    }\n",
              "\n",
              "    .dataframe tbody tr th {\n",
              "        vertical-align: top;\n",
              "    }\n",
              "\n",
              "    .dataframe thead th {\n",
              "        text-align: right;\n",
              "    }\n",
              "</style>\n",
              "<table border=\"1\" class=\"dataframe\">\n",
              "  <thead>\n",
              "    <tr style=\"text-align: right;\">\n",
              "      <th></th>\n",
              "      <th>Month</th>\n",
              "      <th>#Passengers</th>\n",
              "    </tr>\n",
              "  </thead>\n",
              "  <tbody>\n",
              "    <tr>\n",
              "      <th>0</th>\n",
              "      <td>1949-01</td>\n",
              "      <td>112</td>\n",
              "    </tr>\n",
              "    <tr>\n",
              "      <th>1</th>\n",
              "      <td>1949-02</td>\n",
              "      <td>118</td>\n",
              "    </tr>\n",
              "    <tr>\n",
              "      <th>2</th>\n",
              "      <td>1949-03</td>\n",
              "      <td>132</td>\n",
              "    </tr>\n",
              "    <tr>\n",
              "      <th>3</th>\n",
              "      <td>1949-04</td>\n",
              "      <td>129</td>\n",
              "    </tr>\n",
              "    <tr>\n",
              "      <th>4</th>\n",
              "      <td>1949-05</td>\n",
              "      <td>121</td>\n",
              "    </tr>\n",
              "  </tbody>\n",
              "</table>\n",
              "</div>"
            ],
            "text/plain": [
              "     Month  #Passengers\n",
              "0  1949-01          112\n",
              "1  1949-02          118\n",
              "2  1949-03          132\n",
              "3  1949-04          129\n",
              "4  1949-05          121"
            ]
          },
          "metadata": {
            "tags": []
          },
          "execution_count": 169
        }
      ]
    },
    {
      "cell_type": "markdown",
      "metadata": {
        "id": "z53JZKd1k65K"
      },
      "source": [
        "## Totally there are 144 months, we are going to use 100 for training and 44 for testing"
      ]
    },
    {
      "cell_type": "code",
      "metadata": {
        "id": "zzJZcqzG32aw",
        "colab": {
          "base_uri": "https://localhost:8080/"
        },
        "outputId": "85ad1567-51dd-4eb4-8299-faef25190a0e"
      },
      "source": [
        "df.shape"
      ],
      "execution_count": 170,
      "outputs": [
        {
          "output_type": "execute_result",
          "data": {
            "text/plain": [
              "(144, 2)"
            ]
          },
          "metadata": {
            "tags": []
          },
          "execution_count": 170
        }
      ]
    },
    {
      "cell_type": "code",
      "metadata": {
        "id": "D0rzWfCA4DKQ"
      },
      "source": [
        "df=df.drop([\"Month\"],axis=1)"
      ],
      "execution_count": 171,
      "outputs": []
    },
    {
      "cell_type": "code",
      "metadata": {
        "id": "H8KNGXl24clE",
        "colab": {
          "base_uri": "https://localhost:8080/",
          "height": 204
        },
        "outputId": "a95168ea-7a5f-4ff8-f3e8-9bb27c607248"
      },
      "source": [
        "df.head(5)"
      ],
      "execution_count": 172,
      "outputs": [
        {
          "output_type": "execute_result",
          "data": {
            "text/html": [
              "<div>\n",
              "<style scoped>\n",
              "    .dataframe tbody tr th:only-of-type {\n",
              "        vertical-align: middle;\n",
              "    }\n",
              "\n",
              "    .dataframe tbody tr th {\n",
              "        vertical-align: top;\n",
              "    }\n",
              "\n",
              "    .dataframe thead th {\n",
              "        text-align: right;\n",
              "    }\n",
              "</style>\n",
              "<table border=\"1\" class=\"dataframe\">\n",
              "  <thead>\n",
              "    <tr style=\"text-align: right;\">\n",
              "      <th></th>\n",
              "      <th>#Passengers</th>\n",
              "    </tr>\n",
              "  </thead>\n",
              "  <tbody>\n",
              "    <tr>\n",
              "      <th>0</th>\n",
              "      <td>112</td>\n",
              "    </tr>\n",
              "    <tr>\n",
              "      <th>1</th>\n",
              "      <td>118</td>\n",
              "    </tr>\n",
              "    <tr>\n",
              "      <th>2</th>\n",
              "      <td>132</td>\n",
              "    </tr>\n",
              "    <tr>\n",
              "      <th>3</th>\n",
              "      <td>129</td>\n",
              "    </tr>\n",
              "    <tr>\n",
              "      <th>4</th>\n",
              "      <td>121</td>\n",
              "    </tr>\n",
              "  </tbody>\n",
              "</table>\n",
              "</div>"
            ],
            "text/plain": [
              "   #Passengers\n",
              "0          112\n",
              "1          118\n",
              "2          132\n",
              "3          129\n",
              "4          121"
            ]
          },
          "metadata": {
            "tags": []
          },
          "execution_count": 172
        }
      ]
    },
    {
      "cell_type": "markdown",
      "metadata": {
        "id": "F0fdA_81lLxR"
      },
      "source": [
        "## Data Normalisation"
      ]
    },
    {
      "cell_type": "code",
      "metadata": {
        "id": "aG556bt-4fkY"
      },
      "source": [
        "scaler=MinMaxScaler()\n",
        "dataset=scaler.fit_transform(df)\n"
      ],
      "execution_count": 173,
      "outputs": []
    },
    {
      "cell_type": "code",
      "metadata": {
        "id": "4vHzizSQ4vGW",
        "colab": {
          "base_uri": "https://localhost:8080/"
        },
        "outputId": "3ac3acc4-7a06-4adf-d8dc-9fc54c25a1d3"
      },
      "source": [
        "dataset.shape"
      ],
      "execution_count": 174,
      "outputs": [
        {
          "output_type": "execute_result",
          "data": {
            "text/plain": [
              "(144, 1)"
            ]
          },
          "metadata": {
            "tags": []
          },
          "execution_count": 174
        }
      ]
    },
    {
      "cell_type": "code",
      "metadata": {
        "id": "0iaA2giE48zv",
        "colab": {
          "base_uri": "https://localhost:8080/"
        },
        "outputId": "af469efe-1ad0-481e-d041-35d69a23d7e9"
      },
      "source": [
        "type(dataset)"
      ],
      "execution_count": 175,
      "outputs": [
        {
          "output_type": "execute_result",
          "data": {
            "text/plain": [
              "numpy.ndarray"
            ]
          },
          "metadata": {
            "tags": []
          },
          "execution_count": 175
        }
      ]
    },
    {
      "cell_type": "code",
      "metadata": {
        "id": "z29KPOiT5JpG",
        "colab": {
          "base_uri": "https://localhost:8080/",
          "height": 282
        },
        "outputId": "54dd24e4-ce8d-4d79-b123-420ee0580e24"
      },
      "source": [
        "plt.plot(dataset)"
      ],
      "execution_count": 176,
      "outputs": [
        {
          "output_type": "execute_result",
          "data": {
            "text/plain": [
              "[<matplotlib.lines.Line2D at 0x7fdecccdb690>]"
            ]
          },
          "metadata": {
            "tags": []
          },
          "execution_count": 176
        },
        {
          "output_type": "display_data",
          "data": {
            "image/png": "[encoded data removed]",
            "text/plain": [
              "<Figure size 432x288 with 1 Axes>"
            ]
          },
          "metadata": {
            "tags": [],
            "needs_background": "light"
          }
        }
      ]
    },
    {
      "cell_type": "code",
      "metadata": {
        "id": "yhIvIx0D8PiG"
      },
      "source": [
        "train_size=100"
      ],
      "execution_count": 177,
      "outputs": []
    },
    {
      "cell_type": "code",
      "metadata": {
        "id": "-900MskB6fpG"
      },
      "source": [
        "train_data=dataset[0:train_size,:]\n",
        "test_data=dataset[train_size:,:]"
      ],
      "execution_count": 178,
      "outputs": []
    },
    {
      "cell_type": "code",
      "metadata": {
        "id": "Zgq9I4TN7_X4",
        "colab": {
          "base_uri": "https://localhost:8080/"
        },
        "outputId": "d7c50fec-cdfc-4ac0-e509-af0f59af870c"
      },
      "source": [
        "train_data.shape"
      ],
      "execution_count": 179,
      "outputs": [
        {
          "output_type": "execute_result",
          "data": {
            "text/plain": [
              "(100, 1)"
            ]
          },
          "metadata": {
            "tags": []
          },
          "execution_count": 179
        }
      ]
    },
    {
      "cell_type": "code",
      "metadata": {
        "id": "wzG3bIYM8Cry",
        "colab": {
          "base_uri": "https://localhost:8080/"
        },
        "outputId": "6fa54237-6d4d-420b-b093-2d410ce157fb"
      },
      "source": [
        "test_data.shape"
      ],
      "execution_count": 180,
      "outputs": [
        {
          "output_type": "execute_result",
          "data": {
            "text/plain": [
              "(44, 1)"
            ]
          },
          "metadata": {
            "tags": []
          },
          "execution_count": 180
        }
      ]
    },
    {
      "cell_type": "code",
      "metadata": {
        "id": "IHTVAwfc8FwG",
        "colab": {
          "base_uri": "https://localhost:8080/"
        },
        "outputId": "28b0783b-bd1c-4857-ad75-23572bded22e"
      },
      "source": [
        "train_data"
      ],
      "execution_count": 181,
      "outputs": [
        {
          "output_type": "execute_result",
          "data": {
            "text/plain": [
              "array([[0.01544402],\n",
              "       [0.02702703],\n",
              "       [0.05405405],\n",
              "       [0.04826255],\n",
              "       [0.03281853],\n",
              "       [0.05984556],\n",
              "       [0.08494208],\n",
              "       [0.08494208],\n",
              "       [0.06177606],\n",
              "       [0.02895753],\n",
              "       [0.        ],\n",
              "       [0.02702703],\n",
              "       [0.02123552],\n",
              "       [0.04247104],\n",
              "       [0.07142857],\n",
              "       [0.05984556],\n",
              "       [0.04054054],\n",
              "       [0.08687259],\n",
              "       [0.12741313],\n",
              "       [0.12741313],\n",
              "       [0.1042471 ],\n",
              "       [0.05598456],\n",
              "       [0.01930502],\n",
              "       [0.06949807],\n",
              "       [0.07915058],\n",
              "       [0.08880309],\n",
              "       [0.14285714],\n",
              "       [0.11389961],\n",
              "       [0.13127413],\n",
              "       [0.14285714],\n",
              "       [0.18339768],\n",
              "       [0.18339768],\n",
              "       [0.15444015],\n",
              "       [0.11196911],\n",
              "       [0.08108108],\n",
              "       [0.11969112],\n",
              "       [0.12934363],\n",
              "       [0.14671815],\n",
              "       [0.17181467],\n",
              "       [0.14864865],\n",
              "       [0.15250965],\n",
              "       [0.22007722],\n",
              "       [0.24324324],\n",
              "       [0.26640927],\n",
              "       [0.2027027 ],\n",
              "       [0.16795367],\n",
              "       [0.13127413],\n",
              "       [0.17374517],\n",
              "       [0.17760618],\n",
              "       [0.17760618],\n",
              "       [0.25482625],\n",
              "       [0.25289575],\n",
              "       [0.24131274],\n",
              "       [0.26833977],\n",
              "       [0.30888031],\n",
              "       [0.32432432],\n",
              "       [0.25675676],\n",
              "       [0.20656371],\n",
              "       [0.14671815],\n",
              "       [0.18725869],\n",
              "       [0.19305019],\n",
              "       [0.16216216],\n",
              "       [0.25289575],\n",
              "       [0.23745174],\n",
              "       [0.25096525],\n",
              "       [0.30888031],\n",
              "       [0.38223938],\n",
              "       [0.36486486],\n",
              "       [0.2992278 ],\n",
              "       [0.24131274],\n",
              "       [0.19111969],\n",
              "       [0.24131274],\n",
              "       [0.26640927],\n",
              "       [0.24903475],\n",
              "       [0.31467181],\n",
              "       [0.31853282],\n",
              "       [0.32046332],\n",
              "       [0.40733591],\n",
              "       [0.5019305 ],\n",
              "       [0.46911197],\n",
              "       [0.4015444 ],\n",
              "       [0.32818533],\n",
              "       [0.25675676],\n",
              "       [0.33590734],\n",
              "       [0.34749035],\n",
              "       [0.33397683],\n",
              "       [0.41119691],\n",
              "       [0.4034749 ],\n",
              "       [0.41312741],\n",
              "       [0.52123552],\n",
              "       [0.5965251 ],\n",
              "       [0.58108108],\n",
              "       [0.48455598],\n",
              "       [0.38996139],\n",
              "       [0.32239382],\n",
              "       [0.38996139],\n",
              "       [0.40733591],\n",
              "       [0.38030888],\n",
              "       [0.48648649],\n",
              "       [0.47104247]])"
            ]
          },
          "metadata": {
            "tags": []
          },
          "execution_count": 181
        }
      ]
    },
    {
      "cell_type": "markdown",
      "metadata": {
        "id": "e5M2LOOulUrp"
      },
      "source": [
        "#### We need to find the value of the month using the previous month value. 2017 FEb value will be predicted using 2017 Jan. so our xtrain value will be jan 2017 and ytrain value will be Feb 2017. so here lookback is set to 1\n",
        "\n",
        "Convert the X_train,Y_train,X_test,Y_test in this format using the below function"
      ]
    },
    {
      "cell_type": "code",
      "metadata": {
        "id": "sOG5Hl0H8fTq"
      },
      "source": [
        "def get_data_in_batch(dataset,lookback):\n",
        "  data_X=[]\n",
        "  data_Y=[]\n",
        "  for i in range(len(dataset)-1-lookback):\n",
        "    data_X.append(dataset[i:i+lookback,0])\n",
        "    data_Y.append(dataset[i+lookback,0])\n",
        "  return np.array(data_X),np.array(data_Y)"
      ],
      "execution_count": 182,
      "outputs": []
    },
    {
      "cell_type": "code",
      "metadata": {
        "id": "aHcucf1EAsxw",
        "colab": {
          "base_uri": "https://localhost:8080/"
        },
        "outputId": "0c1b357e-e390-429a-adf5-545d75723605"
      },
      "source": [
        "lookback=1\n",
        "X_train,Y_train=get_data_in_batch(train_data,lookback)\n",
        "print(X_train.shape,Y_train.shape)"
      ],
      "execution_count": 183,
      "outputs": [
        {
          "output_type": "stream",
          "text": [
            "(98, 1) (98,)\n"
          ],
          "name": "stdout"
        }
      ]
    },
    {
      "cell_type": "code",
      "metadata": {
        "id": "Uz06SAStA-3k",
        "colab": {
          "base_uri": "https://localhost:8080/"
        },
        "outputId": "cb26d519-d545-401d-a8e1-2feb5cb64fe1"
      },
      "source": [
        "X_test,Y_test=get_data_in_batch(test_data,lookback)\n",
        "print(X_test.shape,Y_test.shape)"
      ],
      "execution_count": 184,
      "outputs": [
        {
          "output_type": "stream",
          "text": [
            "(42, 1) (42,)\n"
          ],
          "name": "stdout"
        }
      ]
    },
    {
      "cell_type": "markdown",
      "metadata": {
        "id": "-L6_BUVHmOuo"
      },
      "source": [
        "##### All the 4 training and testing values are 2 dimensional. we need to reshape to three dimensional before passing it through the NN"
      ]
    },
    {
      "cell_type": "code",
      "metadata": {
        "id": "A_GgdHcjOItn"
      },
      "source": [
        "X_train=X_train.reshape(X_train.shape[0],X_train.shape[1],1)\n",
        "X_test=X_test.reshape(X_test.shape[0],X_test.shape[1],1)"
      ],
      "execution_count": 185,
      "outputs": []
    },
    {
      "cell_type": "code",
      "metadata": {
        "id": "zlzw5hM8PFlq",
        "colab": {
          "base_uri": "https://localhost:8080/"
        },
        "outputId": "35f8a02e-1689-4c95-d20b-1532af73e5bd"
      },
      "source": [
        "print(X_train.shape)"
      ],
      "execution_count": 186,
      "outputs": [
        {
          "output_type": "stream",
          "text": [
            "(98, 1, 1)\n"
          ],
          "name": "stdout"
        }
      ]
    },
    {
      "cell_type": "markdown",
      "metadata": {
        "id": "yjvdMOrZmlXL"
      },
      "source": [
        "## Build the LSTM Model"
      ]
    },
    {
      "cell_type": "code",
      "metadata": {
        "id": "SEGmQHe4NrCl"
      },
      "source": [
        "model=Sequential()\n",
        "model.add(LSTM(units=5,input_shape=X_train[0].shape))\n",
        "model.add(Dense(1))\n",
        "\n"
      ],
      "execution_count": 187,
      "outputs": []
    },
    {
      "cell_type": "code",
      "metadata": {
        "id": "dMG65K4QOtN6"
      },
      "source": [
        "model.compile(optimizer='adam',loss=\"mean_squared_error\")"
      ],
      "execution_count": 188,
      "outputs": []
    },
    {
      "cell_type": "code",
      "metadata": {
        "id": "1ZGQV5cvPNgP",
        "colab": {
          "base_uri": "https://localhost:8080/"
        },
        "outputId": "a4a70298-14b3-45e2-c5fd-3f9a0f22c3da"
      },
      "source": [
        "model.summary()"
      ],
      "execution_count": 189,
      "outputs": [
        {
          "output_type": "stream",
          "text": [
            "Model: \"sequential_5\"\n",
            "_________________________________________________________________\n",
            "Layer (type)                 Output Shape              Param #   \n",
            "=================================================================\n",
            "lstm_5 (LSTM)                (None, 5)                 140       \n",
            "_________________________________________________________________\n",
            "dense_5 (Dense)              (None, 1)                 6         \n",
            "=================================================================\n",
            "Total params: 146\n",
            "Trainable params: 146\n",
            "Non-trainable params: 0\n",
            "_________________________________________________________________\n"
          ],
          "name": "stdout"
        }
      ]
    },
    {
      "cell_type": "markdown",
      "metadata": {
        "id": "yRCMUOHEmqaQ"
      },
      "source": [
        "## Model Training"
      ]
    },
    {
      "cell_type": "code",
      "metadata": {
        "id": "Ug5pryAUPTO-",
        "colab": {
          "base_uri": "https://localhost:8080/"
        },
        "outputId": "dfda2b4f-42b6-4524-8bc8-a848cdb32939"
      },
      "source": [
        "model.fit(X_train,Y_train,epochs=50,batch_size=1)"
      ],
      "execution_count": 190,
      "outputs": [
        {
          "output_type": "stream",
          "text": [
            "Epoch 1/50\n",
            "98/98 [==============================] - 1s 2ms/step - loss: 0.0530\n",
            "Epoch 2/50\n",
            "98/98 [==============================] - 0s 1ms/step - loss: 0.0263\n",
            "Epoch 3/50\n",
            "98/98 [==============================] - 0s 2ms/step - loss: 0.0189\n",
            "Epoch 4/50\n",
            "98/98 [==============================] - 0s 2ms/step - loss: 0.0168\n",
            "Epoch 5/50\n",
            "98/98 [==============================] - 0s 2ms/step - loss: 0.0156\n",
            "Epoch 6/50\n",
            "98/98 [==============================] - 0s 2ms/step - loss: 0.0143\n",
            "Epoch 7/50\n",
            "98/98 [==============================] - 0s 2ms/step - loss: 0.0130\n",
            "Epoch 8/50\n",
            "98/98 [==============================] - 0s 2ms/step - loss: 0.0115\n",
            "Epoch 9/50\n",
            "98/98 [==============================] - 0s 2ms/step - loss: 0.0099\n",
            "Epoch 10/50\n",
            "98/98 [==============================] - 0s 2ms/step - loss: 0.0083\n",
            "Epoch 11/50\n",
            "98/98 [==============================] - 0s 2ms/step - loss: 0.0068\n",
            "Epoch 12/50\n",
            "98/98 [==============================] - 0s 2ms/step - loss: 0.0054\n",
            "Epoch 13/50\n",
            "98/98 [==============================] - 0s 2ms/step - loss: 0.0043\n",
            "Epoch 14/50\n",
            "98/98 [==============================] - 0s 2ms/step - loss: 0.0035\n",
            "Epoch 15/50\n",
            "98/98 [==============================] - 0s 2ms/step - loss: 0.0029\n",
            "Epoch 16/50\n",
            "98/98 [==============================] - 0s 1ms/step - loss: 0.0026\n",
            "Epoch 17/50\n",
            "98/98 [==============================] - 0s 2ms/step - loss: 0.0024\n",
            "Epoch 18/50\n",
            "98/98 [==============================] - 0s 2ms/step - loss: 0.0022\n",
            "Epoch 19/50\n",
            "98/98 [==============================] - 0s 2ms/step - loss: 0.0022\n",
            "Epoch 20/50\n",
            "98/98 [==============================] - 0s 2ms/step - loss: 0.0022\n",
            "Epoch 21/50\n",
            "98/98 [==============================] - 0s 2ms/step - loss: 0.0021\n",
            "Epoch 22/50\n",
            "98/98 [==============================] - 0s 2ms/step - loss: 0.0020\n",
            "Epoch 23/50\n",
            "98/98 [==============================] - 0s 2ms/step - loss: 0.0022\n",
            "Epoch 24/50\n",
            "98/98 [==============================] - 0s 2ms/step - loss: 0.0021\n",
            "Epoch 25/50\n",
            "98/98 [==============================] - 0s 2ms/step - loss: 0.0021\n",
            "Epoch 26/50\n",
            "98/98 [==============================] - 0s 2ms/step - loss: 0.0021\n",
            "Epoch 27/50\n",
            "98/98 [==============================] - 0s 2ms/step - loss: 0.0021\n",
            "Epoch 28/50\n",
            "98/98 [==============================] - 0s 2ms/step - loss: 0.0021\n",
            "Epoch 29/50\n",
            "98/98 [==============================] - 0s 1ms/step - loss: 0.0021\n",
            "Epoch 30/50\n",
            "98/98 [==============================] - 0s 2ms/step - loss: 0.0021\n",
            "Epoch 31/50\n",
            "98/98 [==============================] - 0s 2ms/step - loss: 0.0021\n",
            "Epoch 32/50\n",
            "98/98 [==============================] - 0s 1ms/step - loss: 0.0021\n",
            "Epoch 33/50\n",
            "98/98 [==============================] - 0s 2ms/step - loss: 0.0022\n",
            "Epoch 34/50\n",
            "98/98 [==============================] - 0s 2ms/step - loss: 0.0021\n",
            "Epoch 35/50\n",
            "98/98 [==============================] - 0s 2ms/step - loss: 0.0022\n",
            "Epoch 36/50\n",
            "98/98 [==============================] - 0s 2ms/step - loss: 0.0021\n",
            "Epoch 37/50\n",
            "98/98 [==============================] - 0s 2ms/step - loss: 0.0021\n",
            "Epoch 38/50\n",
            "98/98 [==============================] - 0s 2ms/step - loss: 0.0020\n",
            "Epoch 39/50\n",
            "98/98 [==============================] - 0s 2ms/step - loss: 0.0021\n",
            "Epoch 40/50\n",
            "98/98 [==============================] - 0s 2ms/step - loss: 0.0021\n",
            "Epoch 41/50\n",
            "98/98 [==============================] - 0s 2ms/step - loss: 0.0022\n",
            "Epoch 42/50\n",
            "98/98 [==============================] - 0s 1ms/step - loss: 0.0021\n",
            "Epoch 43/50\n",
            "98/98 [==============================] - 0s 2ms/step - loss: 0.0021\n",
            "Epoch 44/50\n",
            "98/98 [==============================] - 0s 2ms/step - loss: 0.0022\n",
            "Epoch 45/50\n",
            "98/98 [==============================] - 0s 2ms/step - loss: 0.0021\n",
            "Epoch 46/50\n",
            "98/98 [==============================] - 0s 2ms/step - loss: 0.0021\n",
            "Epoch 47/50\n",
            "98/98 [==============================] - 0s 2ms/step - loss: 0.0021\n",
            "Epoch 48/50\n",
            "98/98 [==============================] - 0s 2ms/step - loss: 0.0021\n",
            "Epoch 49/50\n",
            "98/98 [==============================] - 0s 2ms/step - loss: 0.0021\n",
            "Epoch 50/50\n",
            "98/98 [==============================] - 0s 2ms/step - loss: 0.0021\n"
          ],
          "name": "stdout"
        },
        {
          "output_type": "execute_result",
          "data": {
            "text/plain": [
              "<tensorflow.python.keras.callbacks.History at 0x7fdecdf10450>"
            ]
          },
          "metadata": {
            "tags": []
          },
          "execution_count": 190
        }
      ]
    },
    {
      "cell_type": "markdown",
      "metadata": {
        "id": "FxPhFLfPmu7g"
      },
      "source": [
        "## Prediction"
      ]
    },
    {
      "cell_type": "code",
      "metadata": {
        "id": "0VBJHVoCPbZK",
        "colab": {
          "base_uri": "https://localhost:8080/"
        },
        "outputId": "b25fa3f0-e4d3-42db-88c0-da67d19825ee"
      },
      "source": [
        "y_pred=model.predict(X_test)"
      ],
      "execution_count": 191,
      "outputs": [
        {
          "output_type": "stream",
          "text": [
            "WARNING:tensorflow:6 out of the last 11 calls to <function Model.make_predict_function.<locals>.predict_function at 0x7fded5755830> triggered tf.function retracing. Tracing is expensive and the excessive number of tracings could be due to (1) creating @tf.function repeatedly in a loop, (2) passing tensors with different shapes, (3) passing Python objects instead of tensors. For (1), please define your @tf.function outside of the loop. For (2), @tf.function has experimental_relax_shapes=True option that relaxes argument shapes that can avoid unnecessary retracing. For (3), please refer to https://www.tensorflow.org/guide/function#controlling_retracing and https://www.tensorflow.org/api_docs/python/tf/function for  more details.\n"
          ],
          "name": "stdout"
        }
      ]
    },
    {
      "cell_type": "markdown",
      "metadata": {
        "id": "WjUsQFiPmy2t"
      },
      "source": [
        "Convert back to the original form before comparison"
      ]
    },
    {
      "cell_type": "code",
      "metadata": {
        "id": "_jBaWqybPjdY"
      },
      "source": [
        "y_pred=scaler.inverse_transform(y_pred)\n"
      ],
      "execution_count": 192,
      "outputs": []
    },
    {
      "cell_type": "code",
      "metadata": {
        "id": "5hn3LQeiP5pf",
        "colab": {
          "base_uri": "https://localhost:8080/"
        },
        "outputId": "e45a34a8-d284-489a-cd02-7edcdab91b04"
      },
      "source": [
        "y_pred"
      ],
      "execution_count": 193,
      "outputs": [
        {
          "output_type": "execute_result",
          "data": {
            "text/plain": [
              "array([[351.0374 ],\n",
              "       [410.5604 ],\n",
              "       [445.72345],\n",
              "       [447.29587],\n",
              "       [395.10022],\n",
              "       [343.60107],\n",
              "       [303.69882],\n",
              "       [333.2813 ],\n",
              "       [337.0461 ],\n",
              "       [316.1841 ],\n",
              "       [357.49316],\n",
              "       [344.53387],\n",
              "       [358.4114 ],\n",
              "       [421.46005],\n",
              "       [465.71674],\n",
              "       [476.07816],\n",
              "       [395.10022],\n",
              "       [354.7324 ],\n",
              "       [308.51288],\n",
              "       [334.2238 ],\n",
              "       [355.6537 ],\n",
              "       [338.92334],\n",
              "       [396.8386 ],\n",
              "       [388.09683],\n",
              "       [408.8635 ],\n",
              "       [451.20187],\n",
              "       [506.1351 ],\n",
              "       [513.4009 ],\n",
              "       [444.14532],\n",
              "       [397.70587],\n",
              "       [357.49316],\n",
              "       [395.97   ],\n",
              "       [406.3082 ],\n",
              "       [383.6798 ],\n",
              "       [408.01303],\n",
              "       [442.56152],\n",
              "       [451.20187],\n",
              "       [497.3276 ],\n",
              "       [551.82367],\n",
              "       [542.56647],\n",
              "       [478.26154],\n",
              "       [442.56152]], dtype=float32)"
            ]
          },
          "metadata": {
            "tags": []
          },
          "execution_count": 193
        }
      ]
    },
    {
      "cell_type": "code",
      "metadata": {
        "id": "ChjgRZI2P7Iw",
        "colab": {
          "base_uri": "https://localhost:8080/"
        },
        "outputId": "7ca89575-1398-41ef-d53e-9d39ade1a63e"
      },
      "source": [
        "scaler.scale_"
      ],
      "execution_count": 194,
      "outputs": [
        {
          "output_type": "execute_result",
          "data": {
            "text/plain": [
              "array([0.0019305])"
            ]
          },
          "metadata": {
            "tags": []
          },
          "execution_count": 194
        }
      ]
    },
    {
      "cell_type": "code",
      "metadata": {
        "id": "IZId4Eu6QTri",
        "colab": {
          "base_uri": "https://localhost:8080/"
        },
        "outputId": "2349f5ae-4428-4a31-c728-602d243e3522"
      },
      "source": [
        "Y_test.shape"
      ],
      "execution_count": 195,
      "outputs": [
        {
          "output_type": "execute_result",
          "data": {
            "text/plain": [
              "(42,)"
            ]
          },
          "metadata": {
            "tags": []
          },
          "execution_count": 195
        }
      ]
    },
    {
      "cell_type": "markdown",
      "metadata": {
        "id": "e6c-unCSm836"
      },
      "source": [
        "Y_test is a 1D array, Minmax scaler need a 2D array as input so first reshape the Y_test and then transform back to the original value"
      ]
    },
    {
      "cell_type": "code",
      "metadata": {
        "id": "MD_pNBIOQo4f"
      },
      "source": [
        "Y_test=Y_test.reshape(-1,1)"
      ],
      "execution_count": 196,
      "outputs": []
    },
    {
      "cell_type": "code",
      "metadata": {
        "id": "dZ2wZvVcRR5a",
        "colab": {
          "base_uri": "https://localhost:8080/"
        },
        "outputId": "4caf530d-0981-4c11-cd53-c8a450e53650"
      },
      "source": [
        "Y_test.shape"
      ],
      "execution_count": 197,
      "outputs": [
        {
          "output_type": "execute_result",
          "data": {
            "text/plain": [
              "(42, 1)"
            ]
          },
          "metadata": {
            "tags": []
          },
          "execution_count": 197
        }
      ]
    },
    {
      "cell_type": "code",
      "metadata": {
        "id": "Cr6e-A4NRf9j"
      },
      "source": [
        "Y_test=scaler.inverse_transform(Y_test)"
      ],
      "execution_count": 198,
      "outputs": []
    },
    {
      "cell_type": "code",
      "metadata": {
        "id": "VM_2BpKYRrRp",
        "colab": {
          "base_uri": "https://localhost:8080/"
        },
        "outputId": "8f3b4a66-bbca-44f2-ac43-a211f52fda57"
      },
      "source": [
        "Y_test"
      ],
      "execution_count": 199,
      "outputs": [
        {
          "output_type": "execute_result",
          "data": {
            "text/plain": [
              "array([[422.],\n",
              "       [465.],\n",
              "       [467.],\n",
              "       [404.],\n",
              "       [347.],\n",
              "       [305.],\n",
              "       [336.],\n",
              "       [340.],\n",
              "       [318.],\n",
              "       [362.],\n",
              "       [348.],\n",
              "       [363.],\n",
              "       [435.],\n",
              "       [491.],\n",
              "       [505.],\n",
              "       [404.],\n",
              "       [359.],\n",
              "       [310.],\n",
              "       [337.],\n",
              "       [360.],\n",
              "       [342.],\n",
              "       [406.],\n",
              "       [396.],\n",
              "       [420.],\n",
              "       [472.],\n",
              "       [548.],\n",
              "       [559.],\n",
              "       [463.],\n",
              "       [407.],\n",
              "       [362.],\n",
              "       [405.],\n",
              "       [417.],\n",
              "       [391.],\n",
              "       [419.],\n",
              "       [461.],\n",
              "       [472.],\n",
              "       [535.],\n",
              "       [622.],\n",
              "       [606.],\n",
              "       [508.],\n",
              "       [461.],\n",
              "       [390.]])"
            ]
          },
          "metadata": {
            "tags": []
          },
          "execution_count": 199
        }
      ]
    },
    {
      "cell_type": "markdown",
      "metadata": {
        "id": "5V3sxzDYnTI-"
      },
      "source": [
        "## Plotting the True and the Predicted value"
      ]
    },
    {
      "cell_type": "code",
      "metadata": {
        "id": "3vrJKUb1RwjW",
        "colab": {
          "base_uri": "https://localhost:8080/",
          "height": 320
        },
        "outputId": "bcb3f446-b566-4281-92ac-120dc646b22a"
      },
      "source": [
        "plt.figure(figsize=(14,5))\n",
        "plt.plot(Y_test,label=\"Real no.of.Passengers\")\n",
        "plt.plot(y_pred,label=\"Predicted np.of.Passengers\")\n",
        "plt.legend()\n",
        "plt.show()"
      ],
      "execution_count": 200,
      "outputs": [
        {
          "output_type": "display_data",
          "data": {
            "image/png": "[encoded data removed]",
            "text/plain": [
              "<Figure size 1008x360 with 1 Axes>"
            ]
          },
          "metadata": {
            "tags": [],
            "needs_background": "light"
          }
        }
      ]
    }
  ]
}